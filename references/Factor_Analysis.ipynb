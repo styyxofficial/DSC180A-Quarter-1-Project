{
 "cells": [
  {
   "cell_type": "markdown",
   "metadata": {},
   "source": [
    "First I have to create a set of observations that I will test on. Based on a factor analysis model, this set of observations X will have have latent variables z. I can start with z to create a set of observations X. Then when I apply factor analysis to X, I should get z back."
   ]
  },
  {
   "cell_type": "code",
   "execution_count": 176,
   "metadata": {},
   "outputs": [],
   "source": [
    "import numpy as np\n",
    "import pandas as pd\n",
    "import matplotlib.pyplot as plt\n",
    "from numpy.linalg import inv"
   ]
  },
  {
   "cell_type": "code",
   "execution_count": 177,
   "metadata": {},
   "outputs": [],
   "source": [
    "N = 100  # Number of observations\n",
    "M = 2  # Number of latent variables"
   ]
  },
  {
   "cell_type": "markdown",
   "metadata": {},
   "source": [
    "First I create z"
   ]
  },
  {
   "cell_type": "code",
   "execution_count": 178,
   "metadata": {},
   "outputs": [
    {
     "data": {
      "text/plain": [
       "array([[-2.52188524,  0.88032744],\n",
       "       [-1.04812543, -1.24906035],\n",
       "       [ 1.14864631,  0.45390081],\n",
       "       [ 1.23432385,  0.51606676],\n",
       "       [ 3.3054963 , -0.20745204]])"
      ]
     },
     "execution_count": 178,
     "metadata": {},
     "output_type": "execute_result"
    }
   ],
   "source": [
    "z = np.random.normal(0, 1, size=(N, M))\n",
    "z[:5]"
   ]
  },
  {
   "cell_type": "code",
   "execution_count": 179,
   "metadata": {},
   "outputs": [
    {
     "data": {
      "text/plain": [
       "<matplotlib.collections.PathCollection at 0x258b4f7ef70>"
      ]
     },
     "execution_count": 179,
     "metadata": {},
     "output_type": "execute_result"
    },
    {
     "data": {
      "image/png": "[encoded data removed]",
      "text/plain": [
       "<Figure size 432x288 with 1 Axes>"
      ]
     },
     "metadata": {
      "needs_background": "light"
     },
     "output_type": "display_data"
    }
   ],
   "source": [
    "plt.scatter(z[:,0], z[:,1])"
   ]
  },
  {
   "cell_type": "markdown",
   "metadata": {},
   "source": [
    "Now I apply a set of transformations W to get X. I want X to be a (500, 6) matrix, which means W has to be (6, 2). I will also add some mean $\\mu$"
   ]
  },
  {
   "cell_type": "code",
   "execution_count": 180,
   "metadata": {},
   "outputs": [
    {
     "data": {
      "text/plain": [
       "array([[  5.59721184, -15.41500253, -11.29590546,  -5.01221437,\n",
       "         -5.32688609, -11.77286925],\n",
       "       [  2.15656808, -14.927491  , -15.72279748,  -1.08405909,\n",
       "         -3.69062243,  -3.58593839],\n",
       "       [ 11.65899506,  15.06122168,  21.57157043,  19.40222663,\n",
       "          8.50238687,  13.49442501],\n",
       "       [ 12.01684798,  16.2053152 ,  22.98783933,  20.18846722,\n",
       "          8.96942891,  14.1563337 ],\n",
       "       [ 13.98863649,  30.50475447,  37.18789466,  32.51611798,\n",
       "         15.80708112,  27.93102206]])"
      ]
     },
     "execution_count": 180,
     "metadata": {},
     "output_type": "execute_result"
    }
   ],
   "source": [
    "W = np.array([[2, 3], [9, 6], [10, 9], [7, 3], [4, 2], [7, 1]])\n",
    "u = np.array([8, 2, 6, 10, 3, 5])\n",
    "\n",
    "X = (W @ z.T).T + u\n",
    "\n",
    "X[:5]"
   ]
  },
  {
   "cell_type": "markdown",
   "metadata": {},
   "source": [
    "I will use the \"_L\" suffix to denote learned variables. We are going to start with randomly initialized variables."
   ]
  },
  {
   "cell_type": "code",
   "execution_count": 181,
   "metadata": {},
   "outputs": [],
   "source": [
    "mu_x = np.mean(X, axis=0).reshape(-1, 1)\n",
    "W_L = np.random.uniform(low=-5, high=5, size=(X.shape[1], M))\n",
    "psi_L = np.diag(np.random.uniform(low=0, high=1, size=X.shape[1]))\n",
    "G = inv(np.eye(M) + W_L.T @ inv(psi_L) @ W_L)\n"
   ]
  },
  {
   "cell_type": "markdown",
   "metadata": {},
   "source": [
    "Expectation Step"
   ]
  },
  {
   "cell_type": "code",
   "execution_count": 182,
   "metadata": {},
   "outputs": [],
   "source": [
    "Ez_L = np.empty(X.shape[0], dtype=object)\n",
    "Ezzt_L = np.empty(X.shape[0], dtype=object)"
   ]
  },
  {
   "cell_type": "code",
   "execution_count": 183,
   "metadata": {},
   "outputs": [],
   "source": [
    "for i in range(0, X.shape[0]):\n",
    "    Ez_L[i] = G @ W_L.T @ inv(psi_L) @ (X[i].reshape(-1, 1) - mu_x)\n",
    "    Ezzt_L[i] = G + Ez_L[i] @ Ez_L[i].T"
   ]
  },
  {
   "cell_type": "markdown",
   "metadata": {},
   "source": [
    "Maximization Step"
   ]
  },
  {
   "cell_type": "code",
   "execution_count": 184,
   "metadata": {},
   "outputs": [],
   "source": [
    "# Compute new W\n",
    "\n",
    "w_sum1 = np.zeros(shape=(X.shape[1], M))\n",
    "\n",
    "for i in range(X.shape[0]):\n",
    "    w_sum1 += (X[i].reshape(-1, 1) - mu_x) @ Ez_L[i].T\n",
    "\n",
    "W_L = w_sum1 @ inv(Ezzt_L.sum(axis=0))\n"
   ]
  },
  {
   "cell_type": "code",
   "execution_count": 185,
   "metadata": {},
   "outputs": [],
   "source": [
    "# Compute new psi. Assuming S is the sample covariance.\n",
    "\n",
    "psi_sum1 = np.zeros(shape=(M, X.shape[1]))\n",
    "\n",
    "for i in range(X.shape[0]):\n",
    "    psi_sum1 += Ez_L[i] @ (X[i].reshape(-1, 1) - mu_x).T\n",
    "    \n",
    "psi_L = np.diag(np.diag(np.cov(X.T) - (1/N) * W_L @ psi_sum1))"
   ]
  },
  {
   "cell_type": "markdown",
   "metadata": {},
   "source": [
    "Now we can put it all together to try and see how close our estimation was to the real W"
   ]
  },
  {
   "cell_type": "code",
   "execution_count": 186,
   "metadata": {},
   "outputs": [],
   "source": [
    "epochs = 100  # Number of iterations to run EM\n",
    "\n",
    "mu_x = np.mean(X, axis=0).reshape(-1, 1)\n",
    "W_L = np.random.uniform(low=-5, high=5, size=(X.shape[1], M))\n",
    "psi_L = np.diag(np.random.uniform(low=0, high=1, size=X.shape[1]))\n",
    "\n",
    "\n",
    "for _ in range(epochs):\n",
    "    # Expectation Step\n",
    "    Ez_L = np.empty(X.shape[0], dtype=object)\n",
    "    Ezzt_L = np.empty(X.shape[0], dtype=object)\n",
    "    G = inv(np.eye(M) + W_L.T @ inv(psi_L) @ W_L)\n",
    "    \n",
    "    for i in range(0, X.shape[0]):\n",
    "        Ez_L[i] = G @ W_L.T @ inv(psi_L) @ (X[i].reshape(-1, 1) - mu_x)\n",
    "        Ezzt_L[i] = G + Ez_L[i] @ Ez_L[i].T\n",
    "        \n",
    "        \n",
    "    # Compute new W\n",
    "\n",
    "    w_sum1 = np.zeros(shape=(X.shape[1], M))\n",
    "\n",
    "    for i in range(X.shape[0]):\n",
    "        w_sum1 += (X[i].reshape(-1, 1) - mu_x) @ Ez_L[i].T\n",
    "\n",
    "    W_L = w_sum1 @ inv(Ezzt_L.sum(axis=0))\n",
    "    \n",
    "    \n",
    "    # Compute new psi. Assuming S is the sample covariance.\n",
    "\n",
    "    psi_sum1 = np.zeros(shape=(M, X.shape[1]))\n",
    "\n",
    "    for i in range(X.shape[0]):\n",
    "        psi_sum1 += Ez_L[i] @ (X[i].reshape(-1, 1) - mu_x).T\n",
    "        \n",
    "    psi_L = np.diag(np.diag(np.cov(X.T) - (1/N) * W_L @ psi_sum1))"
   ]
  },
  {
   "cell_type": "code",
   "execution_count": 187,
   "metadata": {},
   "outputs": [
    {
     "data": {
      "text/plain": [
       "(array([[-2.41955334,  3.12854163],\n",
       "        [-3.60695431, 11.10699555],\n",
       "        [-6.27293813, 13.26555473],\n",
       "        [-1.18740097,  7.97845392],\n",
       "        [-0.95588763,  4.67231431],\n",
       "        [ 0.75420856,  7.18606945]]),\n",
       " array([[ 2,  3],\n",
       "        [ 9,  6],\n",
       "        [10,  9],\n",
       "        [ 7,  3],\n",
       "        [ 4,  2],\n",
       "        [ 7,  1]]))"
      ]
     },
     "execution_count": 187,
     "metadata": {},
     "output_type": "execute_result"
    }
   ],
   "source": [
    "W_L, W"
   ]
  },
  {
   "cell_type": "markdown",
   "metadata": {},
   "source": [
    "### How did I make sure the coding was done correctly?\n",
    "For any problems I was having, I would look up the numpy documentation to see if the behavior I was getting was right.\n",
    "\n",
    "### How I made sure the math I was doing was correct?\n",
    "\n",
    "The biggest thing was to always make sure that my matrix dimensions were correct. After this, I just trusted the formulas in the book. I would also keep printing the output of steps along the way to make sure everything was correct.\n",
    "\n",
    "### How did I plan my coding to be right?\n",
    "My plan was to reverse engineer a set of latent weights. This way I had a concrete dataset that I could compare my output to, so that I could see if the model was working correctly. Other steps included using for loops instead of matrix operations. I understand matrix operations, however I do not understand the math enough to apply them to this scenario, so I stuck with loops to minimize any errors. I sacrifice run time, but it should have less problems."
   ]
  }
 ],
 "metadata": {
  "kernelspec": {
   "display_name": "Python 3.9.2 64-bit",
   "language": "python",
   "name": "python3"
  },
  "language_info": {
   "codemirror_mode": {
    "name": "ipython",
    "version": 3
   },
   "file_extension": ".py",
   "mimetype": "text/x-python",
   "name": "python",
   "nbconvert_exporter": "python",
   "pygments_lexer": "ipython3",
   "version": "3.9.2"
  },
  "orig_nbformat": 4,
  "vscode": {
   "interpreter": {
    "hash": "751fe810df084dd2570fdea6638cb644d6356c48800e3ea19fc62e6f6cdbc3c7"
   }
  }
 },
 "nbformat": 4,
 "nbformat_minor": 2
}
