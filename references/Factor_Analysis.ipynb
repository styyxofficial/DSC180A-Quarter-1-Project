{
 "cells": [
  {
   "cell_type": "markdown",
   "metadata": {},
   "source": [
    "### Steps for Factor Analysis using EM\n",
    "Step 1: Generate data using z, W, $\\mu$, $\\psi$. Dimensionality should be prime numbers so that its easier to debug.\n",
    "\n",
    "First I have to create a set of observations that I will test on. Based on a factor analysis model, this set of observations X will have have latent variables z. I can start with z to create a set of observations X based on a linear transformation W, centering at $\\mu$ and adding noise $\\psi$. Then when I apply factor analysis to X, I can evaluate my models correctness on if $WW^T = W'W'^T$, and $\\psi\\psi^T = \\psi'\\psi'^T$"
   ]
  },
  {
   "cell_type": "code",
   "execution_count": 1,
   "metadata": {},
   "outputs": [],
   "source": [
    "import numpy as np\n",
    "import pandas as pd\n",
    "import matplotlib.pyplot as plt\n",
    "from numpy.linalg import inv, det\n",
    "from sklearn.linear_model import LinearRegression "
   ]
  },
  {
   "cell_type": "code",
   "execution_count": 2,
   "metadata": {},
   "outputs": [],
   "source": [
    "N = 103  # Number of observations\n",
    "M = 3  # Number of latent variables\n",
    "D = 7 # Number of dimensions of X"
   ]
  },
  {
   "cell_type": "markdown",
   "metadata": {},
   "source": [
    "First I create z"
   ]
  },
  {
   "cell_type": "code",
   "execution_count": 3,
   "metadata": {},
   "outputs": [
    {
     "data": {
      "text/plain": [
       "array([[ 0.21647057,  0.7046297 , -0.9821028 ],\n",
       "       [-1.51366065,  0.35275781, -0.41752152],\n",
       "       [-1.81236112, -0.09742622, -1.0130653 ],\n",
       "       [ 0.77467122, -0.37950779,  0.50265107],\n",
       "       [-0.487527  ,  0.36277753, -0.77611117]])"
      ]
     },
     "execution_count": 3,
     "metadata": {},
     "output_type": "execute_result"
    }
   ],
   "source": [
    "z = np.random.normal(0, 1, size=(N, M))\n",
    "z[:5]"
   ]
  },
  {
   "cell_type": "code",
   "execution_count": 4,
   "metadata": {},
   "outputs": [
    {
     "data": {
      "text/plain": [
       "<matplotlib.collections.PathCollection at 0x1581df30>"
      ]
     },
     "execution_count": 4,
     "metadata": {},
     "output_type": "execute_result"
    },
    {
     "data": {
      "image/png": "[encoded data removed]",
      "text/plain": [
       "<Figure size 432x288 with 1 Axes>"
      ]
     },
     "metadata": {
      "needs_background": "light"
     },
     "output_type": "display_data"
    }
   ],
   "source": [
    "plt.scatter(z[:,0], z[:,1])"
   ]
  },
  {
   "cell_type": "markdown",
   "metadata": {},
   "source": [
    "Now I apply a set of transformations W to get X. I want X to be a (103, 7) matrix, which means W has to be (7, 3). I will also add some mean $\\mu$ and $\\psi$ to add noise"
   ]
  },
  {
   "cell_type": "code",
   "execution_count": 5,
   "metadata": {},
   "outputs": [
    {
     "data": {
      "text/plain": [
       "array([[  5.81752597,   0.39186487,   9.51891238,  15.59896395,\n",
       "         -2.87059303,   1.97866475,  -0.36673006],\n",
       "       [  1.26387622, -17.80349292,  -5.26431301,  -2.62117956,\n",
       "         -7.80623   ,  -9.05514937,  -8.02845987],\n",
       "       [ -2.53802256, -23.79315107, -23.30100968,  -7.57789105,\n",
       "         -7.56227677,  -9.0240229 ,   0.26871773],\n",
       "       [ 16.31931585,   4.65272969,  15.07538403,  14.88862403,\n",
       "          4.78927213,  16.71835745,   3.78764485],\n",
       "       [ -0.19311437,  -6.6494854 ,  -5.09039378,   3.74738751,\n",
       "         -4.02027397,  -4.16637998,   0.74497342]])"
      ]
     },
     "execution_count": 5,
     "metadata": {},
     "output_type": "execute_result"
    }
   ],
   "source": [
    "W = np.array([[2, 3, 9], [9, 6, 10], [10, 9, 8], [7, 3, 2], [4, 2, 7], [7, 1, 1], [2, 7, 3]])\n",
    "u = np.array([8, 2, 6, 10, 3, 5, 2])\n",
    "\n",
    "# based on Mikio SNR, use high lambdas\n",
    "# I will use low lambdas\n",
    "psi = np.diag([1, 3, 2, 1, 2, 3, 1]) # Low lambdas (noise) causes weights plot to have a slope of 1\n",
    "# psi = np.diag([10, 30, 20, 10, 20, 30, 10]) # High lambdas (noise) causes weights plot to not have a slope of 1\n",
    "\n",
    "noise_ = np.random.multivariate_normal(u, psi, size=(N,))\n",
    "\n",
    "\n",
    "X = (W @ z.T).T + noise_\n",
    "\n",
    "X[:5]"
   ]
  },
  {
   "cell_type": "markdown",
   "metadata": {},
   "source": [
    "I will use the \"_L\" suffix to denote learned variables. We are going to start with randomly initialized variables."
   ]
  },
  {
   "cell_type": "code",
   "execution_count": 181,
   "metadata": {},
   "outputs": [],
   "source": [
    "mu_x = np.mean(X, axis=0).reshape(-1, 1)\n",
    "W_L = np.random.normal(0, 1, size=(X.shape[1], M))\n",
    "psi_L = np.diag(np.random.uniform(low=0, high=1, size=X.shape[1]))\n",
    "G = inv(np.eye(M) + W_L.T @ inv(psi_L) @ W_L)"
   ]
  },
  {
   "cell_type": "markdown",
   "metadata": {},
   "source": [
    "Expectation Step"
   ]
  },
  {
   "cell_type": "code",
   "execution_count": 182,
   "metadata": {},
   "outputs": [],
   "source": [
    "Ez_L = np.empty(X.shape[0], dtype=object)\n",
    "Ezzt_L = np.empty(X.shape[0], dtype=object)"
   ]
  },
  {
   "cell_type": "code",
   "execution_count": 183,
   "metadata": {},
   "outputs": [],
   "source": [
    "for i in range(0, X.shape[0]):\n",
    "    Ez_L[i] = G @ W_L.T @ inv(psi_L) @ (X[i].reshape(-1, 1) - mu_x)\n",
    "    Ezzt_L[i] = G + Ez_L[i] @ Ez_L[i].T"
   ]
  },
  {
   "cell_type": "markdown",
   "metadata": {},
   "source": [
    "Maximization Step"
   ]
  },
  {
   "cell_type": "code",
   "execution_count": 184,
   "metadata": {},
   "outputs": [],
   "source": [
    "# Compute new W\n",
    "\n",
    "w_sum1 = np.zeros(shape=(X.shape[1], M))\n",
    "\n",
    "for i in range(X.shape[0]):\n",
    "    w_sum1 += (X[i].reshape(-1, 1) - mu_x) @ Ez_L[i].T\n",
    "\n",
    "W_L = w_sum1 @ inv(Ezzt_L.sum(axis=0))\n"
   ]
  },
  {
   "cell_type": "code",
   "execution_count": 185,
   "metadata": {},
   "outputs": [],
   "source": [
    "# Compute new psi. Assuming S is the sample covariance.\n",
    "\n",
    "psi_sum1 = np.zeros(shape=(M, X.shape[1]))\n",
    "\n",
    "for i in range(X.shape[0]):\n",
    "    psi_sum1 += Ez_L[i] @ (X[i].reshape(-1, 1) - mu_x).T\n",
    "    \n",
    "psi_L = np.diag(np.diag(np.cov(X.T) - (1/N) * W_L @ psi_sum1))"
   ]
  },
  {
   "cell_type": "markdown",
   "metadata": {},
   "source": [
    "### Calculate Likelihood\n",
    "Here I will define a method to calculate likelihood so that we can measure it over the epochs"
   ]
  },
  {
   "cell_type": "code",
   "execution_count": 6,
   "metadata": {},
   "outputs": [],
   "source": [
    "def likelihood():\n",
    "    C = W_L @ W_L.T + psi_L\n",
    "    return -(N/2) * (np.log(det(C)) + np.trace(np.cov(X.T) * inv(C)))"
   ]
  },
  {
   "cell_type": "markdown",
   "metadata": {},
   "source": [
    "Now we can put it all together to try and see how close our estimation was to the real W"
   ]
  },
  {
   "cell_type": "code",
   "execution_count": 7,
   "metadata": {},
   "outputs": [],
   "source": [
    "epochs = 250  # Number of iterations to run EM\n",
    "M = 3  # Number of latent variables\n",
    "\n",
    "mu_x = np.mean(X, axis=0).reshape(-1, 1)\n",
    "W_L = np.random.uniform(low=-5, high=5, size=(X.shape[1], M))\n",
    "psi_L = np.diag(np.random.uniform(low=0, high=1, size=X.shape[1]))\n",
    "likelihoods = np.zeros(shape=epochs)\n",
    "\n",
    "for i in range(epochs):\n",
    "    # Expectation Step\n",
    "    Ez_L = np.empty(X.shape[0], dtype=object)\n",
    "    Ezzt_L = np.empty(X.shape[0], dtype=object)\n",
    "    G = inv(np.eye(M) + W_L.T @ inv(psi_L) @ W_L)\n",
    "    \n",
    "    for j in range(0, X.shape[0]):\n",
    "        Ez_L[j] = G @ W_L.T @ inv(psi_L) @ (X[j].reshape(-1, 1) - mu_x)\n",
    "        Ezzt_L[j] = G + Ez_L[j] @ Ez_L[j].T\n",
    "        \n",
    "        \n",
    "    # Compute new W\n",
    "\n",
    "    w_sum1 = np.zeros(shape=(X.shape[1], M))\n",
    "\n",
    "    for j in range(X.shape[0]):\n",
    "        w_sum1 += (X[j].reshape(-1, 1) - mu_x) @ Ez_L[j].T\n",
    "\n",
    "    W_L = w_sum1 @ inv(Ezzt_L.sum(axis=0))\n",
    "    \n",
    "    \n",
    "    # Compute new psi. Assuming S is the sample covariance.\n",
    "\n",
    "    psi_sum1 = np.zeros(shape=(M, X.shape[1]))\n",
    "\n",
    "    for j in range(X.shape[0]):\n",
    "        psi_sum1 += Ez_L[j] @ (X[j].reshape(-1, 1) - mu_x).T\n",
    "        \n",
    "    psi_L = np.diag(np.diag(np.cov(X.T) - (1/N) * W_L @ psi_sum1))\n",
    "    \n",
    "    likelihoods[i] = likelihood()"
   ]
  },
  {
   "cell_type": "code",
   "execution_count": 29,
   "metadata": {},
   "outputs": [
    {
     "data": {
      "text/plain": [
       "(array([[ -2.43468024,  -2.60702958,   7.81063658],\n",
       "        [ -5.17992821,  -8.68802301,   7.39732618],\n",
       "        [ -2.91138262, -11.70895933,   6.43422687],\n",
       "        [ -3.16877488,  -6.43171929,   0.70822045],\n",
       "        [ -3.78211556,  -3.28789559,   5.46484925],\n",
       "        [ -4.43874453,  -5.10849294,  -0.96080079],\n",
       "        [  2.77661172,  -5.62155117,   3.73085573]]),\n",
       " array([[ 2,  3,  9],\n",
       "        [ 9,  6, 10],\n",
       "        [10,  9,  8],\n",
       "        [ 7,  3,  2],\n",
       "        [ 4,  2,  7],\n",
       "        [ 7,  1,  1],\n",
       "        [ 2,  7,  3]]))"
      ]
     },
     "execution_count": 29,
     "metadata": {},
     "output_type": "execute_result"
    }
   ],
   "source": [
    "W_L, W"
   ]
  },
  {
   "cell_type": "markdown",
   "metadata": {},
   "source": [
    "### Check if W and $\\psi$ are correct\n",
    "First get $WW^T$ and $W'W'^T$ and flatten them. Then plot them. Their slope should equal 1 if our EM model is correct"
   ]
  },
  {
   "cell_type": "code",
   "execution_count": 8,
   "metadata": {},
   "outputs": [
    {
     "name": "stdout",
     "output_type": "stream",
     "text": [
      "Slope:  0.7370411322693609\n",
      "Intercept:  5.707000938672849\n"
     ]
    },
    {
     "data": {
      "text/plain": [
       "<matplotlib.collections.PathCollection at 0x158b6f30>"
      ]
     },
     "execution_count": 8,
     "metadata": {},
     "output_type": "execute_result"
    },
    {
     "data": {
      "image/png": "[encoded data removed]",
      "text/plain": [
       "<Figure size 432x288 with 1 Axes>"
      ]
     },
     "metadata": {
      "needs_background": "light"
     },
     "output_type": "display_data"
    }
   ],
   "source": [
    "mdl = LinearRegression().fit(np.ndarray.flatten(W @ W.T).reshape(-1, 1), np.ndarray.flatten(W_L @ W_L.T))\n",
    "print(\"Slope: \", mdl.coef_[0])\n",
    "print(\"Intercept: \", mdl.intercept_)\n",
    "\n",
    "plt.scatter(x=np.ndarray.flatten(W @ W.T), y=np.ndarray.flatten(W_L @ W_L.T))"
   ]
  },
  {
   "cell_type": "markdown",
   "metadata": {},
   "source": [
    "Since our slope is 1, we are confident that the Weights portion of our EM is correct"
   ]
  },
  {
   "cell_type": "code",
   "execution_count": 9,
   "metadata": {},
   "outputs": [
    {
     "name": "stdout",
     "output_type": "stream",
     "text": [
      "Slope:  0.9939604916505237\n",
      "Intercept:  -0.2668856468071965\n"
     ]
    },
    {
     "data": {
      "text/plain": [
       "<matplotlib.collections.PathCollection at 0x159043b0>"
      ]
     },
     "execution_count": 9,
     "metadata": {},
     "output_type": "execute_result"
    },
    {
     "data": {
      "image/png": "[encoded data removed]",
      "text/plain": [
       "<Figure size 432x288 with 1 Axes>"
      ]
     },
     "metadata": {
      "needs_background": "light"
     },
     "output_type": "display_data"
    }
   ],
   "source": [
    "mdl = LinearRegression().fit(np.ndarray.flatten(np.cov(X.T)).reshape(-1, 1), np.ndarray.flatten(W_L @ W_L.T + psi_L))\n",
    "print(\"Slope: \", mdl.coef_[0])\n",
    "print(\"Intercept: \", mdl.intercept_)\n",
    "\n",
    "plt.scatter(x=np.ndarray.flatten(np.cov(X.T)), y=np.ndarray.flatten(W_L @ W_L.T + psi_L))"
   ]
  },
  {
   "cell_type": "markdown",
   "metadata": {},
   "source": [
    "The model we fit is $\\Sigma = W'W'^T + \\psi$ \\\n",
    "The evaluation criteria we are using here is $W'W'^T + \\psi = S$. \\\n",
    "We can measure the slope or residual between these 2 variables to see how well our model is performing.\n",
    "This evaluation criteria is from page 6 of Statistics of Factor Analysis"
   ]
  },
  {
   "cell_type": "markdown",
   "metadata": {},
   "source": [
    "### Evaluate Likelihood over epochs\n",
    "Graph of negative log likelihood (neglecting terms constant with respect to $\\psi$)"
   ]
  },
  {
   "cell_type": "code",
   "execution_count": 10,
   "metadata": {},
   "outputs": [
    {
     "data": {
      "text/plain": [
       "<matplotlib.collections.PathCollection at 0x15836af0>"
      ]
     },
     "execution_count": 10,
     "metadata": {},
     "output_type": "execute_result"
    },
    {
     "data": {
      "image/png": "[encoded data removed]",
      "text/plain": [
       "<Figure size 432x288 with 1 Axes>"
      ]
     },
     "metadata": {
      "needs_background": "light"
     },
     "output_type": "display_data"
    }
   ],
   "source": [
    "plt.scatter(x= range(epochs), y= likelihoods)"
   ]
  },
  {
   "cell_type": "code",
   "execution_count": 112,
   "metadata": {},
   "outputs": [
    {
     "data": {
      "text/plain": [
       "array([-7962.64032582, -7962.65169735, -7962.66294169, -7962.67406029,\n",
       "       -7962.68505458])"
      ]
     },
     "execution_count": 112,
     "metadata": {},
     "output_type": "execute_result"
    }
   ],
   "source": [
    "likelihoods[-5:]"
   ]
  },
  {
   "cell_type": "markdown",
   "metadata": {},
   "source": [
    "### How did I make sure the coding was done correctly?\n",
    "For any problems I was having, I would look up the numpy documentation to see if the behavior I was getting was right.\n",
    "\n",
    "### How I made sure the math I was doing was correct?\n",
    "\n",
    "The biggest thing was to always make sure that my matrix dimensions were correct. After this, I just trusted the formulas in the book. I would also keep printing the output of steps along the way to make sure everything was correct.\n",
    "\n",
    "### How did I plan my coding to be right?\n",
    "My plan was to reverse engineer a set of latent weights. This way I had a concrete dataset that I could compare my output to, so that I could see if the model was working correctly. Other steps included using for loops instead of matrix operations. I understand matrix operations, however I do not understand the math enough to apply them to this scenario, so I stuck with loops to minimize any errors. I sacrifice run time, but it should have less problems."
   ]
  }
 ],
 "metadata": {
  "kernelspec": {
   "display_name": "Python 3.7.4 32-bit",
   "language": "python",
   "name": "python3"
  },
  "language_info": {
   "codemirror_mode": {
    "name": "ipython",
    "version": 3
   },
   "file_extension": ".py",
   "mimetype": "text/x-python",
   "name": "python",
   "nbconvert_exporter": "python",
   "pygments_lexer": "ipython3",
   "version": "3.7.4"
  },
  "orig_nbformat": 4,
  "vscode": {
   "interpreter": {
    "hash": "87c8eeea08ab3d29ad729688c7dc8d710eb7504e2022354839d375ec51a3ad09"
   }
  }
 },
 "nbformat": 4,
 "nbformat_minor": 2
}
