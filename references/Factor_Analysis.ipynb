{
 "cells": [
  {
   "cell_type": "markdown",
   "metadata": {},
   "source": [
    "Author: Aryan Singh \\\n",
    "This file is ultimately what we are submitting for the checkpoint as it the most working version of the code out of all of us. However, everyone will be submitting their code along side this as well."
   ]
  },
  {
   "cell_type": "markdown",
   "metadata": {},
   "source": [
    "### Steps for Factor Analysis using EM\n",
    "Step 1: Generate data using z, W, $\\mu$, $\\psi$. Dimensionality should be prime numbers so that its easier to debug.\n",
    "\n",
    "First I have to create a set of observations that I will test on. Based on a factor analysis model, this set of observations X will have have latent variables z. I can start with z to create a set of observations X based on a linear transformation W, centering at $\\mu$ and adding noise $\\psi$. Then when I apply factor analysis to X, I can evaluate my models correctness on if $WW^T = W'W'^T$, and $\\psi\\psi^T = \\psi'\\psi'^T$"
   ]
  },
  {
   "cell_type": "code",
   "execution_count": 1,
   "metadata": {},
   "outputs": [],
   "source": [
    "import numpy as np\n",
    "import pandas as pd\n",
    "import matplotlib.pyplot as plt\n",
    "from numpy.linalg import inv, det\n",
    "from sklearn.linear_model import LinearRegression "
   ]
  },
  {
   "cell_type": "code",
   "execution_count": 2,
   "metadata": {},
   "outputs": [],
   "source": [
    "N = 103  # Number of observations\n",
    "M = 3  # Number of latent variables\n",
    "D = 7 # Number of dimensions of X"
   ]
  },
  {
   "cell_type": "markdown",
   "metadata": {},
   "source": [
    "First I create z"
   ]
  },
  {
   "cell_type": "markdown",
   "metadata": {},
   "source": []
  },
  {
   "cell_type": "code",
   "execution_count": 3,
   "metadata": {},
   "outputs": [
    {
     "data": {
      "text/plain": [
       "array([[ 4.04621237, -0.44039538, -0.3470822 ],\n",
       "       [ 1.55451234, -0.34100944, -0.26516944],\n",
       "       [ 0.55953689,  0.99118673,  0.58108367],\n",
       "       [ 0.02324511, -1.85982482,  0.19348636],\n",
       "       [ 0.53541498,  1.12130257,  0.35807004]])"
      ]
     },
     "execution_count": 3,
     "metadata": {},
     "output_type": "execute_result"
    }
   ],
   "source": [
    "z = np.random.normal(0, 1, size=(N, M))\n",
    "z[:5]"
   ]
  },
  {
   "cell_type": "code",
   "execution_count": 4,
   "metadata": {},
   "outputs": [
    {
     "data": {
      "text/plain": [
       "<matplotlib.collections.PathCollection at 0x7f9bb716f1f0>"
      ]
     },
     "execution_count": 4,
     "metadata": {},
     "output_type": "execute_result"
    },
    {
     "data": {
      "image/png": "[encoded data removed]",
      "text/plain": [
       "<Figure size 640x480 with 1 Axes>"
      ]
     },
     "metadata": {},
     "output_type": "display_data"
    }
   ],
   "source": [
    "plt.scatter(z[:,0], z[:,1])"
   ]
  },
  {
   "cell_type": "markdown",
   "metadata": {},
   "source": [
    "Now I apply a set of transformations W to get X. I want X to be a (103, 7) matrix, which means W has to be (7, 3). I will also add some mean $\\mu$ and $\\psi$ to add noise"
   ]
  },
  {
   "cell_type": "code",
   "execution_count": 5,
   "metadata": {},
   "outputs": [
    {
     "data": {
      "text/plain": [
       "array([[ 11.4111459 ,  31.77544547,  40.12491896,  36.69441966,\n",
       "         16.10393678,  34.82484333,   5.79730662],\n",
       "       [  8.25147163,  10.98770662,  16.0364798 ,  19.01587347,\n",
       "          7.80034384,  19.30515264,   1.55400315],\n",
       "       [ 17.32728465,  17.73622299,  25.60964322,  16.01879295,\n",
       "         14.44065522,  13.00242836,  12.68484942],\n",
       "       [  1.89715179,  -5.15323288,  -8.84822447,   5.51962808,\n",
       "          1.37347797,   3.71898518, -11.53225473],\n",
       "       [ 16.03453225,  16.6616428 ,  25.95414765,  17.65974052,\n",
       "          9.24153208,  11.49821191,  10.00257722]])"
      ]
     },
     "execution_count": 5,
     "metadata": {},
     "output_type": "execute_result"
    }
   ],
   "source": [
    "W = np.array([[2, 3, 9], [9, 6, 10], [10, 9, 8], [7, 3, 2], [4, 2, 7], [7, 1, 1], [2, 7, 3]])\n",
    "u = np.array([8, 2, 6, 10, 3, 5, 2])\n",
    "\n",
    "# based on Mikio SNR, use high lambdas\n",
    "# I will use low lambdas\n",
    "psi = np.diag([1, 3, 2, 1, 2, 3, 1])\n",
    "\n",
    "noise_ = np.random.multivariate_normal(u, psi, size=(N,))\n",
    "\n",
    "\n",
    "X = (W @ z.T).T + noise_\n",
    "\n",
    "X[:5]"
   ]
  },
  {
   "cell_type": "markdown",
   "metadata": {},
   "source": [
    "I will use the \"_L\" suffix to denote learned variables. We are going to start with randomly initialized variables."
   ]
  },
  {
   "cell_type": "code",
   "execution_count": 6,
   "metadata": {},
   "outputs": [],
   "source": [
    "mu_x = np.mean(X, axis=0).reshape(-1, 1)\n",
    "W_L = np.random.normal(0, 1, size=(X.shape[1], M))\n",
    "psi_L = np.diag(np.random.uniform(low=0, high=1, size=X.shape[1]))\n",
    "G = inv(np.eye(M) + W_L.T @ inv(psi_L) @ W_L)"
   ]
  },
  {
   "cell_type": "markdown",
   "metadata": {},
   "source": [
    "Expectation Step"
   ]
  },
  {
   "cell_type": "code",
   "execution_count": 7,
   "metadata": {},
   "outputs": [],
   "source": [
    "Ez_L = np.empty(X.shape[0], dtype=object)\n",
    "Ezzt_L = np.empty(X.shape[0], dtype=object)"
   ]
  },
  {
   "cell_type": "code",
   "execution_count": 8,
   "metadata": {},
   "outputs": [],
   "source": [
    "for i in range(0, X.shape[0]):\n",
    "    Ez_L[i] = G @ W_L.T @ inv(psi_L) @ (X[i].reshape(-1, 1) - mu_x)\n",
    "    Ezzt_L[i] = G + Ez_L[i] @ Ez_L[i].T"
   ]
  },
  {
   "cell_type": "markdown",
   "metadata": {},
   "source": [
    "Maximization Step"
   ]
  },
  {
   "cell_type": "code",
   "execution_count": 9,
   "metadata": {},
   "outputs": [],
   "source": [
    "# Compute new W\n",
    "\n",
    "w_sum1 = np.zeros(shape=(X.shape[1], M))\n",
    "\n",
    "for i in range(X.shape[0]):\n",
    "    w_sum1 += (X[i].reshape(-1, 1) - mu_x) @ Ez_L[i].T\n",
    "\n",
    "W_L = w_sum1 @ inv(Ezzt_L.sum(axis=0))\n"
   ]
  },
  {
   "cell_type": "code",
   "execution_count": 10,
   "metadata": {},
   "outputs": [],
   "source": [
    "# Compute new psi. Assuming S is the sample covariance.\n",
    "\n",
    "psi_sum1 = np.zeros(shape=(M, X.shape[1]))\n",
    "\n",
    "for i in range(X.shape[0]):\n",
    "    psi_sum1 += Ez_L[i] @ (X[i].reshape(-1, 1) - mu_x).T\n",
    "    \n",
    "psi_L = np.diag(np.diag(np.cov(X.T) - (1/N) * W_L @ psi_sum1))"
   ]
  },
  {
   "cell_type": "markdown",
   "metadata": {},
   "source": [
    "### Calculate Likelihood\n",
    "Here I will define a method to calculate likelihood so that we can measure it over the epochs"
   ]
  },
  {
   "cell_type": "code",
   "execution_count": 11,
   "metadata": {},
   "outputs": [],
   "source": [
    "def likelihood():\n",
    "    C = W_L @ W_L.T + psi_L\n",
    "    return -(N/2) * (np.log(det(C)) + np.trace(np.cov(X.T) * inv(C)))"
   ]
  },
  {
   "cell_type": "markdown",
   "metadata": {},
   "source": [
    "Now we can put it all together to try and see how close our estimation was to the real W"
   ]
  },
  {
   "cell_type": "code",
   "execution_count": 12,
   "metadata": {},
   "outputs": [],
   "source": [
    "epochs = 250  # Number of iterations to run EM\n",
    "M = 3  # Number of latent variables\n",
    "\n",
    "mu_x = np.mean(X, axis=0).reshape(-1, 1)\n",
    "W_L = np.random.uniform(low=-5, high=5, size=(X.shape[1], M))\n",
    "psi_L = np.diag(np.random.uniform(low=0, high=1, size=X.shape[1]))\n",
    "likelihoods = np.zeros(shape=epochs)\n",
    "\n",
    "for i in range(epochs):\n",
    "    # Expectation Step\n",
    "    Ez_L = np.empty(X.shape[0], dtype=object)\n",
    "    Ezzt_L = np.empty(X.shape[0], dtype=object)\n",
    "    G = inv(np.eye(M) + W_L.T @ inv(psi_L) @ W_L)\n",
    "    \n",
    "    for j in range(0, X.shape[0]):\n",
    "        Ez_L[j] = G @ W_L.T @ inv(psi_L) @ (X[j].reshape(-1, 1) - mu_x)\n",
    "        Ezzt_L[j] = G + Ez_L[j] @ Ez_L[j].T\n",
    "        \n",
    "        \n",
    "    # Compute new W\n",
    "\n",
    "    w_sum1 = np.zeros(shape=(X.shape[1], M))\n",
    "\n",
    "    for j in range(X.shape[0]):\n",
    "        w_sum1 += (X[j].reshape(-1, 1) - mu_x) @ Ez_L[j].T\n",
    "\n",
    "    W_L = w_sum1 @ inv(Ezzt_L.sum(axis=0))\n",
    "    \n",
    "    \n",
    "    # Compute new psi. Assuming S is the sample covariance.\n",
    "\n",
    "    psi_sum1 = np.zeros(shape=(M, X.shape[1]))\n",
    "\n",
    "    for j in range(X.shape[0]):\n",
    "        psi_sum1 += Ez_L[j] @ (X[j].reshape(-1, 1) - mu_x).T\n",
    "        \n",
    "    psi_L = np.diag(np.diag(np.cov(X.T) - (1/N) * W_L @ psi_sum1))\n",
    "    \n",
    "    likelihoods[i] = likelihood()"
   ]
  },
  {
   "cell_type": "code",
   "execution_count": 13,
   "metadata": {},
   "outputs": [
    {
     "data": {
      "text/plain": [
       "(array([[ 0.7906873 , -1.60815365, 10.32744684],\n",
       "        [ 7.58194761, -1.64581162, 12.07045497],\n",
       "        [ 9.67787014,  1.20850693, 11.48115054],\n",
       "        [ 6.75984953, -0.28655243,  3.04699064],\n",
       "        [ 2.78623277, -2.2334234 ,  7.75498414],\n",
       "        [ 6.56145812, -1.67423269,  1.05787403],\n",
       "        [ 2.90171451,  3.63930808,  6.10118749]]),\n",
       " array([[ 2,  3,  9],\n",
       "        [ 9,  6, 10],\n",
       "        [10,  9,  8],\n",
       "        [ 7,  3,  2],\n",
       "        [ 4,  2,  7],\n",
       "        [ 7,  1,  1],\n",
       "        [ 2,  7,  3]]))"
      ]
     },
     "execution_count": 13,
     "metadata": {},
     "output_type": "execute_result"
    }
   ],
   "source": [
    "W_L, W"
   ]
  },
  {
   "cell_type": "markdown",
   "metadata": {},
   "source": [
    "### Check if W and $\\psi$ are correct\n",
    "First get $WW^T$ and $W'W'^T$ and flatten them. Then plot them. Their slope should equal 1 if our EM model is correct"
   ]
  },
  {
   "cell_type": "code",
   "execution_count": 14,
   "metadata": {},
   "outputs": [
    {
     "name": "stdout",
     "output_type": "stream",
     "text": [
      "Slope:  0.9601708592934995\n",
      "Intercept:  -0.11147587069012843\n"
     ]
    },
    {
     "data": {
      "text/plain": [
       "<matplotlib.collections.PathCollection at 0x7f9bb5099730>"
      ]
     },
     "execution_count": 14,
     "metadata": {},
     "output_type": "execute_result"
    },
    {
     "data": {
      "image/png": "[encoded data removed]",
      "text/plain": [
       "<Figure size 640x480 with 1 Axes>"
      ]
     },
     "metadata": {},
     "output_type": "display_data"
    }
   ],
   "source": [
    "mdl = LinearRegression().fit(np.ndarray.flatten(W @ W.T).reshape(-1, 1), np.ndarray.flatten(W_L @ W_L.T))\n",
    "print(\"Slope: \", mdl.coef_[0])\n",
    "print(\"Intercept: \", mdl.intercept_)\n",
    "\n",
    "plt.scatter(x=np.ndarray.flatten(W @ W.T), y=np.ndarray.flatten(W_L @ W_L.T))"
   ]
  },
  {
   "cell_type": "markdown",
   "metadata": {},
   "source": [
    "Since our slope is 1, we are confident that the Weights portion of our EM is correct"
   ]
  },
  {
   "cell_type": "code",
   "execution_count": 15,
   "metadata": {},
   "outputs": [
    {
     "name": "stdout",
     "output_type": "stream",
     "text": [
      "Slope:  0.958472379454816\n",
      "Intercept:  -0.21117741896837572\n"
     ]
    },
    {
     "data": {
      "text/plain": [
       "<matplotlib.collections.PathCollection at 0x7f9bb5000ca0>"
      ]
     },
     "execution_count": 15,
     "metadata": {},
     "output_type": "execute_result"
    },
    {
     "data": {
      "image/png": "[encoded data removed]",
      "text/plain": [
       "<Figure size 640x480 with 1 Axes>"
      ]
     },
     "metadata": {},
     "output_type": "display_data"
    }
   ],
   "source": [
    "mdl = LinearRegression().fit(np.ndarray.flatten(np.cov(X.T)).reshape(-1, 1), np.ndarray.flatten(W_L @ W_L.T + psi_L))\n",
    "print(\"Slope: \", mdl.coef_[0])\n",
    "print(\"Intercept: \", mdl.intercept_)\n",
    "\n",
    "plt.scatter(x=np.ndarray.flatten(np.cov(X.T)), y=np.ndarray.flatten(W_L @ W_L.T + psi_L))"
   ]
  },
  {
   "cell_type": "markdown",
   "metadata": {},
   "source": [
    "The model we fit is $\\Sigma = W'W'^T + \\psi$ \\\n",
    "The evaluation criteria we are using here is $W'W'^T + \\psi = S$. \\\n",
    "We can measure the slope or residual between these 2 variables to see how well our model is performing.\n",
    "This evaluation criteria is from page 6 of Statistics of Factor Analysis"
   ]
  },
  {
   "cell_type": "markdown",
   "metadata": {},
   "source": [
    "### Evaluate Likelihood over epochs\n",
    "Graph of negative log likelihood (neglecting terms constant with respect to $\\psi$)"
   ]
  },
  {
   "cell_type": "code",
   "execution_count": 16,
   "metadata": {},
   "outputs": [
    {
     "data": {
      "text/plain": [
       "<matplotlib.collections.PathCollection at 0x7f9bb4fd7760>"
      ]
     },
     "execution_count": 16,
     "metadata": {},
     "output_type": "execute_result"
    },
    {
     "data": {
      "image/png": "[encoded data removed]",
      "text/plain": [
       "<Figure size 640x480 with 1 Axes>"
      ]
     },
     "metadata": {},
     "output_type": "display_data"
    }
   ],
   "source": [
    "plt.scatter(x= range(epochs), y= likelihoods)"
   ]
  },
  {
   "cell_type": "code",
   "execution_count": 17,
   "metadata": {},
   "outputs": [
    {
     "data": {
      "text/plain": [
       "array([-7429.66693964, -7429.68998528, -7429.71274477, -7429.73522179,\n",
       "       -7429.75741997])"
      ]
     },
     "execution_count": 17,
     "metadata": {},
     "output_type": "execute_result"
    }
   ],
   "source": [
    "likelihoods[-5:]"
   ]
  },
  {
   "cell_type": "markdown",
   "metadata": {},
   "source": [
    "### How did I make sure the coding was done correctly?\n",
    "For any problems I was having, I would look up the numpy documentation to see if the behavior I was getting was right.\n",
    "\n",
    "### How I made sure the math I was doing was correct?\n",
    "\n",
    "The biggest thing was to always make sure that my matrix dimensions were correct. After this, I just trusted the formulas in the book. I would also keep printing the output of steps along the way to make sure everything was correct.\n",
    "\n",
    "### How did I plan my coding to be right?\n",
    "My plan was to reverse engineer a set of latent weights. This way I had a concrete dataset that I could compare my output to, so that I could see if the model was working correctly. Other steps included using for loops instead of matrix operations. I understand matrix operations, however I do not understand the math enough to apply them to this scenario, so I stuck with loops to minimize any errors. I sacrifice run time, but it should have less problems."
   ]
  }
 ],
 "metadata": {
  "kernelspec": {
   "display_name": "Python 3.9.2 64-bit",
   "language": "python",
   "name": "python3"
  },
  "language_info": {
   "codemirror_mode": {
    "name": "ipython",
    "version": 3
   },
   "file_extension": ".py",
   "mimetype": "text/x-python",
   "name": "python",
   "nbconvert_exporter": "python",
   "pygments_lexer": "ipython3",
   "version": "3.9.2"
  },
  "orig_nbformat": 4,
  "vscode": {
   "interpreter": {
    "hash": "751fe810df084dd2570fdea6638cb644d6356c48800e3ea19fc62e6f6cdbc3c7"
   }
  }
 },
 "nbformat": 4,
 "nbformat_minor": 2
}
