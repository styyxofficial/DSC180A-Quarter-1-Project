{
 "cells": [
  {
   "cell_type": "code",
   "execution_count": 210,
   "metadata": {},
   "outputs": [],
   "source": [
    "import numpy as np\n",
    "import matplotlib.pyplot as plt\n",
    "from scipy.stats import multivariate_normal\n",
    "from numpy.linalg import inv"
   ]
  },
  {
   "cell_type": "code",
   "execution_count": 211,
   "metadata": {},
   "outputs": [],
   "source": [
    "class RBFKernel:\n",
    "    def __init__(self, signal_variance = 2, length_scale = 2) -> None:\n",
    "        self.signal_variance = signal_variance\n",
    "        self.length_scale = length_scale\n",
    "\n",
    "    def transform(self, x1, x2):\n",
    "        return self.signal_variance**2 * np.exp(-((x1-x2)**2)/2*self.length_scale**2)\n",
    "    \n",
    "    def set_params(self, signal_variance, length_scale):\n",
    "        self.signal_variance = signal_variance\n",
    "        self.length_scale = length_scale\n",
    "        return self"
   ]
  },
  {
   "cell_type": "code",
   "execution_count": 212,
   "metadata": {},
   "outputs": [],
   "source": [
    "def mean(X):\n",
    "    # We assume 0 mean\n",
    "    return np.zeros(shape=len(X))\n",
    "\n",
    "def covariance(X1, X2, kernel):\n",
    "    cov = np.zeros(shape=(len(X1), len(X2)))\n",
    "\n",
    "    for i in range(len(X1)):\n",
    "        for j in range(len(X2)):\n",
    "            cov[i][j] = kernel.transform(X1[i], X2[j])\n",
    "            \n",
    "    return cov\n"
   ]
  },
  {
   "cell_type": "code",
   "execution_count": 213,
   "metadata": {},
   "outputs": [],
   "source": [
    "n_train = 30\n",
    "# n_test = 20\n",
    "\n",
    "X_train = sorted(np.random.uniform(low=-5, high=5, size=n_train))\n",
    "y_train = np.sin(X_train)\n",
    "\n",
    "X_test = np.linspace(start=-6, stop=6, num=100)"
   ]
  },
  {
   "cell_type": "code",
   "execution_count": 214,
   "metadata": {},
   "outputs": [],
   "source": [
    "class GP:\n",
    "    def __init__(self, kernel) -> None:\n",
    "        self.kernel = kernel\n",
    "        pass\n",
    "    \n",
    "    def train(self, X_train, y_train, X_test):\n",
    "        noise_variance = 0\n",
    "        # signal_variance = [0.05, 0.1, 0.3, 0.5, 1, 1.5, 2, 2.5]\n",
    "        # length_scale = [0.07, 0.2, 0.5, 1, 1.5, 2, 2.5]\n",
    "        # noise_variance = [0, 0.3, 0.6, 0.9, 1.2, 1.5]\n",
    "        \n",
    "        # best_signal_variance = 2\n",
    "        # best_length_scale = 2\n",
    "        # best_noise_variance = 0\n",
    "        # best_likelihood = -100000\n",
    "        \n",
    "        # # Find best hyperparameters\n",
    "        # for sv in signal_variance:\n",
    "        #     for ls in length_scale:\n",
    "        #         for nv in noise_variance:\n",
    "        #             self.kernel = self.kernel.set_params(sv, ls)\n",
    "        #             cov_X_X = covariance(X_train, X_train, self.kernel)\n",
    "        #             cov_Xt_X = covariance(X_test, X_train, self.kernel)\n",
    "        #             cov_Xt_Xt = covariance(X_test, X_test, self.kernel)\n",
    "        #             jitter = np.eye(len(cov_X_X)) * 1e-6\n",
    "        #             k_inv = inv(cov_X_X + nv*np.identity(n=len(cov_X_X))+ jitter)\n",
    "\n",
    "        #             # mu =  mean(X_test) + cov_Xt_X @ k_inv @ (y_train-mean(X_train))\n",
    "        #             # sigma = cov_Xt_Xt - cov_Xt_X @ k_inv @ cov_Xt_X.T\n",
    "\n",
    "        #             ll = self.prob(y_train, mean(X_train), cov_X_X + nv*np.identity(n=len(cov_X_X)))\n",
    "                    \n",
    "        #             if ll > best_likelihood:\n",
    "        #                 best_signal_variance = sv\n",
    "        #                 best_length_scale = ls\n",
    "        #                 best_noise_variance = nv\n",
    "        #                 best_likelihood = ll\n",
    "        \n",
    "        # # Return results based on best hyperparameters\n",
    "        # self.kernel = self.kernel.set_params(best_signal_variance, best_length_scale)\n",
    "        cov_X_X = covariance(X_train, X_train, self.kernel)\n",
    "        cov_Xt_X = covariance(X_test, X_train, self.kernel)\n",
    "        cov_Xt_Xt = covariance(X_test, X_test, self.kernel)\n",
    "        k_inv = inv(cov_X_X + noise_variance*np.identity(n=len(cov_X_X)))\n",
    "\n",
    "        mu =  mean(X_test) + cov_Xt_X @ k_inv @ (y_train-mean(X_train))\n",
    "        sigma = cov_Xt_Xt - cov_Xt_X @ k_inv @ cov_Xt_X.T\n",
    "        \n",
    "        # print(self.prob(y_train, mean(X_train), cov_X_X + best_noise_variance*np.identity(n=len(cov_X_X))))\n",
    "        #print(self.log_likelihood(cov_X_X, noise_variance*np.identity(n=len(cov_X_X)), y_train, mean(X_train), k_inv))\n",
    "        \n",
    "        return mu, sigma#, best_signal_variance, best_length_scale, best_noise_variance\n",
    "    \n",
    "    def log_likelihood(self, cov_X_X, noise_cov, y_train, mean_X, k_inv):\n",
    "        return (-0.5 * np.log(np.linalg.det(cov_X_X + noise_cov))+1e-6) - (0.5 * (y_train-mean_X).T @ k_inv @(y_train-mean_X)) - (len(y_train)/2) * np.log(2*np.pi)\n",
    "\n",
    "    def prob(self, y_train, mean_x, noise_cov):\n",
    "        y = multivariate_normal.rvs(mean=mean_x, cov=noise_cov)\n",
    "        jitter = np.eye(len(noise_cov)) * 1e-6\n",
    "        prob = multivariate_normal.pdf(y_train, mean=mean_x, cov=noise_cov + jitter)\n",
    "        return prob\n",
    "\n",
    "mod = GP(RBFKernel())\n",
    "mu, sigma = mod.train(X_train, y_train, X_test)\n",
    "# mu, sigma, best_signal_variance, best_length_scale, best_noise_variance = mod.train(X_train, y_train, X_test)\n",
    "# best_signal_variance, best_length_scale, best_noise_variance\n"
   ]
  },
  {
   "cell_type": "code",
   "execution_count": 215,
   "metadata": {},
   "outputs": [
    {
     "name": "stderr",
     "output_type": "stream",
     "text": [
      "C:\\Users\\asing\\AppData\\Local\\Temp/ipykernel_14864/4162457678.py:13: RuntimeWarning: invalid value encountered in sqrt\n",
      "  ax1.fill_between(X_test, mu-2*np.sqrt(np.diag(sigma)), mu+2*np.sqrt(np.diag(sigma)), color='red', alpha=0.15, label='$2 \\sigma_{2|1}$')\n"
     ]
    },
    {
     "data": {
      "text/plain": [
       "<matplotlib.legend.Legend at 0x1e4f3347cd0>"
      ]
     },
     "execution_count": 215,
     "metadata": {},
     "output_type": "execute_result"
    },
    {
     "data": {
      "image/png": "[encoded data removed]",
      "text/plain": [
       "<Figure size 432x432 with 1 Axes>"
      ]
     },
     "metadata": {
      "needs_background": "light"
     },
     "output_type": "display_data"
    }
   ],
   "source": [
    "# Plot the postior distribution and some samples\n",
    "fig, ax1 = plt.subplots(\n",
    "    nrows = 1, ncols=1, figsize=(6, 6))\n",
    "\n",
    "# Plot the correct distribution\n",
    "x_space = np.linspace(start=-6, stop=6, num=1000)\n",
    "y_space = np.sin(x_space)\n",
    "ax1.plot(x_space, y_space, 'b--', label='$sin(x)$')\n",
    "ax1.plot(X_train, y_train, 'ko', linewidth=2, label='$(x_train, y_train)$')\n",
    "\n",
    "# Plot the posterior\n",
    "ax1.plot(X_test, mu, 'r-', lw=2, label='$\\mu$')\n",
    "ax1.fill_between(X_test, mu-2*np.sqrt(np.diag(sigma)), mu+2*np.sqrt(np.diag(sigma)), color='red', alpha=0.15, label='$2 \\sigma_{2|1}$')\n",
    "\n",
    "\n",
    "ax1.set_xlabel('$x$', fontsize=13)\n",
    "ax1.set_ylabel('$y$', fontsize=13)\n",
    "ax1.set_title('Distribution of posterior and prior data.')\n",
    "ax1.axis([-6, 6, -3, 3])\n",
    "ax1.legend()"
   ]
  },
  {
   "cell_type": "markdown",
   "metadata": {},
   "source": [
    "Observation: Too many training points will mess up the graph"
   ]
  },
  {
   "cell_type": "markdown",
   "metadata": {},
   "source": []
  }
 ],
 "metadata": {
  "kernelspec": {
   "display_name": "Python 3.9.2 64-bit",
   "language": "python",
   "name": "python3"
  },
  "language_info": {
   "codemirror_mode": {
    "name": "ipython",
    "version": 3
   },
   "file_extension": ".py",
   "mimetype": "text/x-python",
   "name": "python",
   "nbconvert_exporter": "python",
   "pygments_lexer": "ipython3",
   "version": "3.9.2"
  },
  "orig_nbformat": 4,
  "vscode": {
   "interpreter": {
    "hash": "751fe810df084dd2570fdea6638cb644d6356c48800e3ea19fc62e6f6cdbc3c7"
   }
  }
 },
 "nbformat": 4,
 "nbformat_minor": 2
}
